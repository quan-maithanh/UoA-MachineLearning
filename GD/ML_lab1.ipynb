{
  "nbformat": 4,
  "nbformat_minor": 0,
  "metadata": {
    "colab": {
      "name": "ML-lab1.ipynb",
      "provenance": [],
      "collapsed_sections": []
    },
    "kernelspec": {
      "name": "python3",
      "display_name": "Python 3"
    },
    "language_info": {
      "name": "python"
    }
  },
  "cells": [
    {
      "cell_type": "markdown",
      "metadata": {
        "id": "C0slyecZM246"
      },
      "source": [
        "###**CSCE 5063-001: Assignment 1**\n",
        "\n",
        "\n",
        "\n",
        "\n",
        "            Quan Mai\n",
        "\n",
        "\n"
      ]
    },
    {
      "cell_type": "code",
      "metadata": {
        "id": "ps8F5fu3Sm5Z"
      },
      "source": [
        "import numpy as np\n",
        "import matplotlib.pyplot as plt"
      ],
      "execution_count": null,
      "outputs": []
    },
    {
      "cell_type": "code",
      "metadata": {
        "colab": {
          "base_uri": "https://localhost:8080/"
        },
        "id": "gU6A1ohTSqTe",
        "outputId": "6edc4d4d-4cb5-43e0-9886-318415837208"
      },
      "source": [
        "# Data Loader\n",
        "\n",
        "from google.colab import drive\n",
        "drive.mount('/content/drive') \n",
        "\n",
        "import itertools\n",
        "with open('/content/drive/My Drive/UoA/ML/lab1/data.txt') as f:\n",
        "  data = np.genfromtxt(itertools.islice(f, 19, None), dtype=float) \n",
        "X = np.array(data[:, 1:16])\n",
        "y = np.array(data[:, 16], ndmin=2).T"
      ],
      "execution_count": null,
      "outputs": [
        {
          "output_type": "stream",
          "name": "stdout",
          "text": [
            "Drive already mounted at /content/drive; to attempt to forcibly remount, call drive.mount(\"/content/drive\", force_remount=True).\n"
          ]
        }
      ]
    },
    {
      "cell_type": "code",
      "metadata": {
        "colab": {
          "base_uri": "https://localhost:8080/"
        },
        "id": "cUtcIcBzXN1x",
        "outputId": "192f9bcc-5f4a-4d31-9a5b-7c821302998a"
      },
      "source": [
        "# The number of features n, the number of traning dataset m\n",
        "m, n = X.shape[0], X.shape[1]\n",
        "m, n "
      ],
      "execution_count": null,
      "outputs": [
        {
          "output_type": "execute_result",
          "data": {
            "text/plain": [
              "(60, 15)"
            ]
          },
          "metadata": {},
          "execution_count": 571
        }
      ]
    },
    {
      "cell_type": "markdown",
      "metadata": {
        "id": "SQc8Y3U_XT8i"
      },
      "source": [
        "# **1.1. Feature Normalization**"
      ]
    },
    {
      "cell_type": "code",
      "metadata": {
        "id": "F2rAxN0sXWRw"
      },
      "source": [
        "for i in range (n):\n",
        "  X[:,i] = (X[:,i] - np.min(X[:,i])) / (np.max(X[:,i]) - np.min(X[:,i]))\n",
        "\n",
        "y = (y - np.min(y)) / (np.max(y) - np.min(y))"
      ],
      "execution_count": null,
      "outputs": []
    },
    {
      "cell_type": "markdown",
      "metadata": {
        "id": "AxJlRffF2z5s"
      },
      "source": [
        "Split the data into 80%/20% training/test sets.  "
      ]
    },
    {
      "cell_type": "code",
      "metadata": {
        "id": "UHdTx7TV2-ob"
      },
      "source": [
        "split = int(0.8*m)\n",
        "X_train, X_test = X[0:split,:], X[split:,:] \n",
        "y_train, y_test = y[0:split], y[split:] "
      ],
      "execution_count": null,
      "outputs": []
    },
    {
      "cell_type": "markdown",
      "metadata": {
        "id": "S40Krc5L7nJc"
      },
      "source": [
        "# **1.2. Gradient descent with quadratic regularization**\n",
        "\n",
        "---\n",
        "\n"
      ]
    },
    {
      "cell_type": "code",
      "metadata": {
        "id": "SZ4a69Km8VhZ"
      },
      "source": [
        "# Parameters\n",
        "alpha   = 0.01\n",
        "epsilon = 0.001\n",
        "lambda_ = 5"
      ],
      "execution_count": null,
      "outputs": []
    },
    {
      "cell_type": "markdown",
      "metadata": {
        "id": "A_5Jr1944nKm"
      },
      "source": [
        "Linear regression model for training set"
      ]
    },
    {
      "cell_type": "code",
      "metadata": {
        "id": "pKbNlW-fGTOQ"
      },
      "source": [
        "# Append 1s to X_train, X_test\n",
        "X_train = np.concatenate((np.ones((X_train.shape[0],1)), X_train), axis=1)\n",
        "X_test = np.concatenate((np.ones((X_test.shape[0],1)), X_test), axis=1)"
      ],
      "execution_count": null,
      "outputs": []
    },
    {
      "cell_type": "code",
      "metadata": {
        "id": "N7Az8Wrc9757"
      },
      "source": [
        "# Loss function J\n",
        "def loss(X, y, theta, la):\n",
        "  \"\"\"\n",
        "    X: [ones X_train]\n",
        "    y: y_train\n",
        "  \"\"\"\n",
        "  part = y - np.dot(X, theta)\n",
        "  J = 1/(2*m)*np.dot(part.T, part) + la/(2*m)*np.dot(theta.T,theta)\n",
        "  return J.item()"
      ],
      "execution_count": null,
      "outputs": []
    },
    {
      "cell_type": "code",
      "metadata": {
        "id": "dhezJm-b_BmH"
      },
      "source": [
        "# The gradient descent\n",
        "def gradientDescent(X, y, lr, ep, la):\n",
        "  m, n = X.shape[0], X.shape[1]\n",
        "  theta = np.zeros((n,1))\n",
        "  new_theta = np.zeros(theta.shape)\n",
        "  costHistory = []\n",
        "  costHistory.append(loss(X, y, theta, la))\n",
        "  k = 0\n",
        "  while True:\n",
        "    h = np.dot(X,theta)-y\n",
        "    for j in range(n):\n",
        "      grad = 1/m*np.dot(h.T,X[:,j]) + la/m * theta[j]\n",
        "      new_theta[j] = theta[j] - lr*grad\n",
        "    theta = new_theta\n",
        "    costHistory.append(loss(X, y, theta, la))\n",
        "    k = k+1\n",
        "    # convergence criterion\n",
        "    if abs(costHistory[k-1]-costHistory[k])*100/costHistory[k-1] < ep:\n",
        "      break\n",
        "  return costHistory, theta"
      ],
      "execution_count": null,
      "outputs": []
    },
    {
      "cell_type": "code",
      "metadata": {
        "colab": {
          "base_uri": "https://localhost:8080/"
        },
        "id": "r0V_yhDj44wU",
        "outputId": "d071c4bb-2668-447a-9598-62ad26bbc263"
      },
      "source": [
        "cost_quad, theta_quad = gradientDescent(X_train, y_train, alpha, epsilon, lambda_)\n",
        "theta_quad"
      ],
      "execution_count": null,
      "outputs": [
        {
          "output_type": "execute_result",
          "data": {
            "text/plain": [
              "array([[ 0.12060778],\n",
              "       [ 0.11359138],\n",
              "       [ 0.01482503],\n",
              "       [ 0.0692994 ],\n",
              "       [ 0.0392642 ],\n",
              "       [ 0.12294868],\n",
              "       [-0.02883778],\n",
              "       [ 0.00777696],\n",
              "       [ 0.09154514],\n",
              "       [ 0.12990242],\n",
              "       [ 0.01918069],\n",
              "       [ 0.0774701 ],\n",
              "       [-0.00731691],\n",
              "       [ 0.00467924],\n",
              "       [ 0.11440358],\n",
              "       [ 0.07639742]])"
            ]
          },
          "metadata": {},
          "execution_count": 578
        }
      ]
    },
    {
      "cell_type": "markdown",
      "metadata": {
        "id": "gA6nIza2LFFT"
      },
      "source": [
        "# 1.2.1 Plot the value of loss function J(theta) vs. the number iteration"
      ]
    },
    {
      "cell_type": "code",
      "metadata": {
        "colab": {
          "base_uri": "https://localhost:8080/",
          "height": 295
        },
        "id": "9ha9J9bgDu5H",
        "outputId": "7695c1bd-431c-4489-9f3b-d04ef1130953"
      },
      "source": [
        "plt.plot(cost_quad)\n",
        "plt.title('Cost vs. Iteration using Quadratic Regularization')\n",
        "plt.xlabel('iteration')\n",
        "plt.ylabel('cost')\n",
        "plt.show()"
      ],
      "execution_count": null,
      "outputs": [
        {
          "output_type": "display_data",
          "data": {
            "image/png": "[encoded data removed]",
            "text/plain": [
              "<Figure size 432x288 with 1 Axes>"
            ]
          },
          "metadata": {
            "needs_background": "light"
          }
        }
      ]
    },
    {
      "cell_type": "markdown",
      "metadata": {
        "id": "wffeJr86K1Wa"
      },
      "source": [
        "# 1.2.2 Loss on test set"
      ]
    },
    {
      "cell_type": "code",
      "metadata": {
        "id": "39edTOJQI1ak"
      },
      "source": [
        "def square_loss(X, y, theta):\n",
        "  part = y - np.dot(X,theta)\n",
        "  loss = np.dot(part.T,part)\n",
        "  return loss.item()"
      ],
      "execution_count": null,
      "outputs": []
    },
    {
      "cell_type": "code",
      "metadata": {
        "colab": {
          "base_uri": "https://localhost:8080/"
        },
        "id": "nsdTTsFjL6rF",
        "outputId": "36b2efc6-2c55-477f-8c15-db504c7dc3c9"
      },
      "source": [
        "square_loss(X_test, y_test, theta_quad)"
      ],
      "execution_count": null,
      "outputs": [
        {
          "output_type": "execute_result",
          "data": {
            "text/plain": [
              "0.2969025241080075"
            ]
          },
          "metadata": {},
          "execution_count": 581
        }
      ]
    },
    {
      "cell_type": "markdown",
      "metadata": {
        "id": "gBuiq5zYMuh4"
      },
      "source": [
        "# **1.3 Gradient descent with lasso regularization**\n",
        "\n",
        "\n",
        "---\n",
        "\n",
        "\n"
      ]
    },
    {
      "cell_type": "code",
      "metadata": {
        "id": "CaXKPaJaTKAW"
      },
      "source": [
        "# Parameters for Lasso Regularization\n",
        "lambda_ = 1"
      ],
      "execution_count": null,
      "outputs": []
    },
    {
      "cell_type": "code",
      "metadata": {
        "id": "2lKGCYc2MpPz"
      },
      "source": [
        "# Loss function J\n",
        "def lossLasso(X, y, theta, la):\n",
        "  \"\"\"\n",
        "    X: [ones X_train]\n",
        "    y: y_train\n",
        "  \"\"\"\n",
        "  part = y - np.dot(X, theta)\n",
        "  J = 1/(2*m)*np.dot(part.T, part) + la/(2*m)*np.sum(abs(theta))\n",
        "  return J.item()"
      ],
      "execution_count": null,
      "outputs": []
    },
    {
      "cell_type": "markdown",
      "metadata": {
        "id": "_RUOGq-aPoQm"
      },
      "source": [
        "## 1.3.1 The gradient descent algorithm is given by: \n",
        "> $\\frac{\\partial J(\\theta)}{\\partial \\theta_j} = \\begin{cases} \\frac{1}{m}\\sum^m_{i=1}(y^i - h_{\\theta}(x^i))x_j^i + \\frac{\\lambda}{2m} \\mbox{  if }\\theta_j\\equiv 0 \\\\ \\frac{1}{m}\\sum^m_{i=1}(y^i - h_{\\theta}(x^i))x_j^i + \\frac{\\lambda}{2m}\\frac{\\theta_j}{|\\theta_j|} \\mbox{ otherwise}\\end{cases}$"
      ]
    },
    {
      "cell_type": "code",
      "metadata": {
        "id": "Wz0vZeJDQ8bx"
      },
      "source": [
        "# The gradient descent\n",
        "def gradientDescentLasso(X, y, lr, ep, la):\n",
        "  m, n = X.shape[0], X.shape[1]\n",
        "  theta = np.zeros((n,1))\n",
        "  new_theta = np.zeros(theta.shape)\n",
        "  costHistory = []\n",
        "  costHistory.append(loss(X, y, theta, la))\n",
        "  k = 0\n",
        "  while True:\n",
        "    h = np.dot(X,theta)-y\n",
        "    for j in range(n):\n",
        "      if theta[j] == 0.0: \n",
        "        grad = 1/m*np.dot(h.T,X[:,j]) + la/(2*m)\n",
        "      else:\n",
        "        grad = 1/m*np.dot(h.T,X[:,j]) + la/(2*m) * theta[j] / abs(theta[j])\n",
        "      new_theta[j] = theta[j] - lr*grad\n",
        "    theta = new_theta\n",
        "    costHistory.append(lossLasso(X, y, theta, la))\n",
        "    k = k+1\n",
        "    # convergence criterion\n",
        "    if abs(costHistory[k-1]-costHistory[k])*100/costHistory[k-1] < ep:\n",
        "      break\n",
        "  return costHistory, theta"
      ],
      "execution_count": null,
      "outputs": []
    },
    {
      "cell_type": "code",
      "metadata": {
        "colab": {
          "base_uri": "https://localhost:8080/"
        },
        "id": "dNH718NpSwnR",
        "outputId": "6bd7b3d3-1b3a-4ef1-8943-b0f3f53d057a"
      },
      "source": [
        "cost_lass, theta_lass = gradientDescentLasso(X_train, y_train, alpha, epsilon, lambda_)\n",
        "theta_lass"
      ],
      "execution_count": null,
      "outputs": [
        {
          "output_type": "execute_result",
          "data": {
            "text/plain": [
              "array([[ 1.58483506e-01],\n",
              "       [ 1.14673013e-01],\n",
              "       [-5.43007446e-05],\n",
              "       [ 7.26682662e-02],\n",
              "       [ 2.25653242e-02],\n",
              "       [ 1.24056458e-01],\n",
              "       [-9.57782501e-05],\n",
              "       [-1.48834679e-05],\n",
              "       [ 5.83784378e-02],\n",
              "       [ 1.11700455e-01],\n",
              "       [-7.25575414e-05],\n",
              "       [ 6.35071783e-02],\n",
              "       [-9.39854852e-05],\n",
              "       [ 1.10586666e-04],\n",
              "       [ 8.01600707e-02],\n",
              "       [ 6.79182596e-02]])"
            ]
          },
          "metadata": {},
          "execution_count": 585
        }
      ]
    },
    {
      "cell_type": "markdown",
      "metadata": {
        "id": "jFYo6iLUSc38"
      },
      "source": [
        "## 1.3.2 Plot the value of loss function J(theta) vs. the number iteration"
      ]
    },
    {
      "cell_type": "code",
      "metadata": {
        "colab": {
          "base_uri": "https://localhost:8080/",
          "height": 295
        },
        "id": "XMCglpUYSfUn",
        "outputId": "28b640e2-667b-4dcc-80d6-a328408773cd"
      },
      "source": [
        "plt.plot(cost_lass)\n",
        "plt.title('Cost vs. Iteration using Lasso Regularization')\n",
        "plt.xlabel('iteration')\n",
        "plt.ylabel('cost')\n",
        "plt.show()"
      ],
      "execution_count": null,
      "outputs": [
        {
          "output_type": "display_data",
          "data": {
            "image/png": "[encoded data removed]",
            "text/plain": [
              "<Figure size 432x288 with 1 Axes>"
            ]
          },
          "metadata": {
            "needs_background": "light"
          }
        }
      ]
    },
    {
      "cell_type": "markdown",
      "metadata": {
        "id": "gRUcbbUhT09o"
      },
      "source": [
        "# 1.3.3 Loss on test set"
      ]
    },
    {
      "cell_type": "code",
      "metadata": {
        "colab": {
          "base_uri": "https://localhost:8080/"
        },
        "id": "9o5QKNe0Tvl4",
        "outputId": "084e340e-fd6a-4105-9089-878bbee8b47a"
      },
      "source": [
        "square_loss(X_test, y_test, theta_lass)"
      ],
      "execution_count": null,
      "outputs": [
        {
          "output_type": "execute_result",
          "data": {
            "text/plain": [
              "0.3110495260273877"
            ]
          },
          "metadata": {},
          "execution_count": 587
        }
      ]
    },
    {
      "cell_type": "markdown",
      "metadata": {
        "id": "SGZ-wv0cUBOC"
      },
      "source": [
        "# **1.4 Comparing quadratic and lasso regularization**\n",
        "\n",
        "---\n",
        "\n"
      ]
    },
    {
      "cell_type": "code",
      "metadata": {
        "id": "0ynWhBBNVU45"
      },
      "source": [
        "def zerosCount(theta, val=0.01):\n",
        "  count = np.count_nonzero(abs(theta) < val) #Counting True (nonzero) \n",
        "  return count"
      ],
      "execution_count": null,
      "outputs": []
    },
    {
      "cell_type": "code",
      "metadata": {
        "colab": {
          "base_uri": "https://localhost:8080/"
        },
        "id": "22pEift3XFuK",
        "outputId": "aed14258-49bd-4272-b499-69e30fa3e7d0"
      },
      "source": [
        "zerosCount(theta_quad), zerosCount(theta_lass)"
      ],
      "execution_count": null,
      "outputs": [
        {
          "output_type": "execute_result",
          "data": {
            "text/plain": [
              "(3, 6)"
            ]
          },
          "metadata": {},
          "execution_count": 589
        }
      ]
    },
    {
      "cell_type": "markdown",
      "metadata": {
        "id": "kir-Lm8zgs4q"
      },
      "source": [
        "The lasso regularization have more zeros (6) than the quadratic regularization (3)"
      ]
    },
    {
      "cell_type": "code",
      "metadata": {
        "id": "2Z2Olyj-gyi7"
      },
      "source": [
        ""
      ],
      "execution_count": null,
      "outputs": []
    }
  ]
}
