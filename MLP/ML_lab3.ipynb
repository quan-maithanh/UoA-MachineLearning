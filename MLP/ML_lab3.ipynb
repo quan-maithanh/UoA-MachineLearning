{
  "nbformat": 4,
  "nbformat_minor": 0,
  "metadata": {
    "colab": {
      "name": "ML-lab3.ipynb",
      "provenance": [],
      "collapsed_sections": []
    },
    "kernelspec": {
      "name": "python3",
      "display_name": "Python 3"
    },
    "language_info": {
      "name": "python"
    }
  },
  "cells": [
    {
      "cell_type": "markdown",
      "metadata": {
        "id": "1M55CSE_UiSV"
      },
      "source": [
        "###**CSCE 5063-001: Assignment 3 - Neural Networks**\n",
        "\n",
        "\n",
        "\n",
        "\n",
        "            Quan Mai - 010946565"
      ]
    },
    {
      "cell_type": "markdown",
      "metadata": {
        "id": "zRa4V7vdUs10"
      },
      "source": [
        "## 1. Implementation MNIST dataset classification using MLP"
      ]
    },
    {
      "cell_type": "code",
      "metadata": {
        "id": "h3Y9ePLIcqqG"
      },
      "source": [
        "import pandas as pd\n",
        "import numpy as np\n",
        "import matplotlib.pyplot as plt\n",
        "from google.colab import drive"
      ],
      "execution_count": 65,
      "outputs": []
    },
    {
      "cell_type": "code",
      "metadata": {
        "colab": {
          "base_uri": "https://localhost:8080/"
        },
        "id": "l2z23uf0e4N9",
        "outputId": "7806bdd4-6cf8-4a98-d3ba-0c4989645c87"
      },
      "source": [
        "drive.mount('/content/drive')\n",
        "X = pd.read_csv('/content/drive/My Drive/UoA/ML/lab3/data/X.csv', header=None).to_numpy()\n",
        "Y = pd.read_csv('/content/drive/My Drive/UoA/ML/lab3/data/Y.csv', header=None).to_numpy()\n",
        "W1 = pd.read_csv('/content/drive/My Drive/UoA/ML/lab3/data/initial_W1.csv', header=None).to_numpy()\n",
        "W2 = pd.read_csv('/content/drive/My Drive/UoA/ML/lab3/data/initial_W2.csv', header=None).to_numpy()\n",
        "W3 = pd.read_csv('/content/drive/My Drive/UoA/ML/lab3/data/W1.csv', header=None).to_numpy()\n",
        "W4 = pd.read_csv('/content/drive/My Drive/UoA/ML/lab3/data/W2.csv', header=None).to_numpy()"
      ],
      "execution_count": 66,
      "outputs": [
        {
          "output_type": "stream",
          "name": "stdout",
          "text": [
            "Drive already mounted at /content/drive; to attempt to forcibly remount, call drive.mount(\"/content/drive\", force_remount=True).\n"
          ]
        }
      ]
    },
    {
      "cell_type": "code",
      "metadata": {
        "id": "ENiETyTPbPXE"
      },
      "source": [
        "L1, L2 = W1.shape[0], W2.shape[0]\n",
        "la = 3\n",
        "lr = 0.2"
      ],
      "execution_count": 67,
      "outputs": []
    },
    {
      "cell_type": "code",
      "metadata": {
        "id": "mAhTx_2UKVcl"
      },
      "source": [
        "def one_hot_encode(Y):\n",
        "  one_to_ten = (np.arange(10) + 1)\n",
        "  Y_hot_encode = 1*(Y == one_to_ten)\n",
        "  return Y_hot_encode"
      ],
      "execution_count": 68,
      "outputs": []
    },
    {
      "cell_type": "code",
      "metadata": {
        "id": "galFMVIufeBd"
      },
      "source": [
        "def sigmoid(x):\n",
        "  return 1/(1+np.exp(-x))\n",
        "\n",
        "def sigmoidDerivative(x):\n",
        "  return sigmoid(x)*(1-sigmoid(x))"
      ],
      "execution_count": 69,
      "outputs": []
    },
    {
      "cell_type": "code",
      "metadata": {
        "id": "B6PeGIUlhYBw"
      },
      "source": [
        "# Forward propagation\n",
        "def feedForward(X, W1, W2, act):\n",
        "  \"\"\"\n",
        "  return: \n",
        "    Y_pred: m x 1\n",
        "    Z1    : m x L1\n",
        "    H     : m x L1+1    \n",
        "  \"\"\"\n",
        "  X = np.concatenate([np.ones((X.shape[0], 1)), X], axis=1)\n",
        "  Z1 = X@W1.T\n",
        "  H = act(Z1)\n",
        "\n",
        "  H = np.concatenate([np.ones((H.shape[0], 1)), H], axis=1)\n",
        "  Y_pred = act(H@W2.T)\n",
        "  return Y_pred, Z1, H, X"
      ],
      "execution_count": 70,
      "outputs": []
    },
    {
      "cell_type": "code",
      "metadata": {
        "id": "6BaHkHF8kfC0"
      },
      "source": [
        "# Cost function\n",
        "def loss(X, Y, W1, W2, la, act):\n",
        "  m, n = X.shape[0], X.shape[1]\n",
        "  Y_pred, _, _, _ = feedForward(X, W1, W2, act)\n",
        "  weight_1 = np.sum(W1[:, 1:] * W1[:, 1:]) \n",
        "  weight_2 = np.sum(W2[:, 1:] * W2[:, 1:])\n",
        "  cost = 1/m * np.sum(-Y*np.log(Y_pred)-(1-Y)*np.log(1-Y_pred)) + la/(2*m)*(weight_1+weight_2)\n",
        "  return cost.item()"
      ],
      "execution_count": 71,
      "outputs": []
    },
    {
      "cell_type": "code",
      "metadata": {
        "id": "G4SPrr-3ppGv"
      },
      "source": [
        "def backPropagation(X, Y, W1, W2, la, act):\n",
        "  m, n =  X.shape[0], X.shape[1]\n",
        "  W1_new, W2_new = W1, W2\n",
        "  W1_new[:, 0] = W2_new[:, 0] = 0\n",
        "\n",
        "  Y_pred, Z1, H, X1 = feedForward(X, W1, W2, act) # H(m, L1+1)\n",
        "  Delta_W1 = np.zeros(W1.shape)\n",
        "  Delta_W2 = np.zeros(W2.shape)\n",
        "  \n",
        "  Beta_2 = Y_pred - Y # m x 10\n",
        "  Delta_W2 = np.matmul(Beta_2.T, H) #(10,26)\n",
        "  \n",
        "  Beta_1 = np.matmul(Beta_2, W2[:, 1:]) * sigmoidDerivative(Z1) # (m,25)\n",
        "  Delta_W1 = np.matmul(Beta_1.T, X1) # (25,401)\n",
        "\n",
        "  W1_grad = (Delta_W1 + la * W1_new)/m\n",
        "  W2_grad = (Delta_W2 + la * W2_new)/m\n",
        "\n",
        "  return W1_grad, W2_grad"
      ],
      "execution_count": 72,
      "outputs": []
    },
    {
      "cell_type": "code",
      "metadata": {
        "colab": {
          "base_uri": "https://localhost:8080/"
        },
        "id": "0yQncwyZ3vr3",
        "outputId": "d8a8ad09-b2cc-40f1-d31a-563ca4f2b6b2"
      },
      "source": [
        "loss(X, one_hot_encode(Y), W3, W4, la, sigmoid)"
      ],
      "execution_count": 73,
      "outputs": [
        {
          "output_type": "execute_result",
          "data": {
            "text/plain": [
              "0.576051030352147"
            ]
          },
          "metadata": {},
          "execution_count": 73
        }
      ]
    },
    {
      "cell_type": "code",
      "metadata": {
        "id": "lxVuVbJqpnfu"
      },
      "source": [
        "def batchGradientDescent(X, Y, W1, W2, la, lr, act=sigmoid):\n",
        "  costHistory = []\n",
        "  costHistory.append(loss(X, Y, W1, W2, la, act))\n",
        "  k=0\n",
        "  while True:\n",
        "    W1_grad, W2_grad = backPropagation(X, Y, W1, W2, la, act)\n",
        "    W1 -= lr * W1_grad\n",
        "    W2 -= lr * W2_grad\n",
        "    costHistory.append(loss(X, Y, W1, W2, la, act))\n",
        "    if k<3:\n",
        "      pd.DataFrame(W1_grad).to_csv(\"W1_grad_iter\" + str(k+1) + \".csv\", index=False, index_label=False, header=None)\n",
        "      pd.DataFrame(W2_grad).to_csv(\"W2_grad_iter\" + str(k+1) + \".csv\", index=False, index_label=False, header=None)\n",
        "    k += 1\n",
        "    if k==500:\n",
        "      break\n",
        "  return costHistory, W1, W2"
      ],
      "execution_count": 74,
      "outputs": []
    },
    {
      "cell_type": "markdown",
      "metadata": {
        "id": "r6d81l2vQ5tW"
      },
      "source": [
        "## 2. Plot of loss function J vs. the number of iterations."
      ]
    },
    {
      "cell_type": "code",
      "metadata": {
        "id": "qNp1Ws8FEibb"
      },
      "source": [
        "cost, weight_1, weight_2 = batchGradientDescent(X, one_hot_encode(Y), W1, W2, la, lr, sigmoid)"
      ],
      "execution_count": 75,
      "outputs": []
    },
    {
      "cell_type": "code",
      "metadata": {
        "id": "h6ct7YEFLHWj"
      },
      "source": [
        "def plotLoss(cost):\n",
        "  plt.plot(cost, color='red')\n",
        "  plt.title('Cost vs. Iteration')\n",
        "  plt.xlabel('iteration')\n",
        "  plt.ylabel('cost')\n",
        "  plt.show()"
      ],
      "execution_count": 76,
      "outputs": []
    },
    {
      "cell_type": "code",
      "metadata": {
        "colab": {
          "base_uri": "https://localhost:8080/",
          "height": 295
        },
        "id": "7Vg4ta2sLOZK",
        "outputId": "9574303a-ae78-4f61-b512-f0ab9aadc3c1"
      },
      "source": [
        "plotLoss(cost)"
      ],
      "execution_count": 77,
      "outputs": [
        {
          "output_type": "display_data",
          "data": {
            "image/png": "[encoded data removed]",
            "text/plain": [
              "<Figure size 432x288 with 1 Axes>"
            ]
          },
          "metadata": {
            "needs_background": "light"
          }
        }
      ]
    },
    {
      "cell_type": "markdown",
      "metadata": {
        "id": "ZZ2MDnVHRf6g"
      },
      "source": [
        "# 3. Prediction, and Accuracy"
      ]
    },
    {
      "cell_type": "code",
      "metadata": {
        "id": "8papDd55oGpe"
      },
      "source": [
        "def predict(X, W1, W2, act):\n",
        "  \"\"\"\n",
        "    X: input features\n",
        "    W1, W2: weights after trained\n",
        "  \"\"\"\n",
        "  Y_pred, _, _, _ = feedForward(X, W1, W2, act)\n",
        "  return np.argmax(Y_pred, axis=1) + 1"
      ],
      "execution_count": 78,
      "outputs": []
    },
    {
      "cell_type": "code",
      "metadata": {
        "id": "LOTwpmr5LP9t",
        "colab": {
          "base_uri": "https://localhost:8080/"
        },
        "outputId": "dda3ff59-2c41-4799-cf2c-f86edb417b2c"
      },
      "source": [
        "def accuracy(X, Y, W1, W2, act):\n",
        "  \"\"\"\n",
        "   This function returns prediction's accuracy after 500 iterations\n",
        "  \"\"\"\n",
        "  Y_pred = predict(X, W1, W2, act).reshape(Y.shape)\n",
        "  num = (Y_pred-Y == 0).sum()\n",
        "  return num * 100/X.shape[0]\n",
        "accuracy(X, Y, weight_1, weight_2, sigmoid)"
      ],
      "execution_count": 79,
      "outputs": [
        {
          "output_type": "execute_result",
          "data": {
            "text/plain": [
              "85.72"
            ]
          },
          "metadata": {},
          "execution_count": 79
        }
      ]
    },
    {
      "cell_type": "code",
      "metadata": {
        "id": "I2fCpKp0OSdj"
      },
      "source": [
        "def classify_a_list(a_list, X, W1, W2, act):\n",
        "  \"\"\"\n",
        "  a_list: a list of index in dataset that users want to classify\n",
        "  X     : input features\n",
        "  W1, W2: trained weights\n",
        "  act   : activation function\n",
        "  \"\"\"\n",
        "  y_pred = predict(X, weight_1, weight_2, sigmoid)\n",
        "  result_list = [y_pred[index] for index in a_list]\n",
        "  return result_list"
      ],
      "execution_count": 80,
      "outputs": []
    },
    {
      "cell_type": "code",
      "metadata": {
        "colab": {
          "base_uri": "https://localhost:8080/"
        },
        "id": "qjuHy3r0O9hH",
        "outputId": "d4e7f29b-d65f-4ad5-f8d9-8090a28af163"
      },
      "source": [
        "a_list = np.array([2170, 144, 1581, 2445, 3392, 814, 1377, 528, 3944, 4627])\n",
        "print(classify_a_list(a_list, X, weight_1, weight_2, sigmoid))"
      ],
      "execution_count": 81,
      "outputs": [
        {
          "output_type": "stream",
          "name": "stdout",
          "text": [
            "[4, 10, 3, 4, 6, 1, 2, 1, 7, 3]\n"
          ]
        }
      ]
    },
    {
      "cell_type": "markdown",
      "metadata": {
        "id": "nsNdjobzPw09"
      },
      "source": [
        "The network classifies incorrectly for example indexed 4828, which should be predicted 9."
      ]
    },
    {
      "cell_type": "code",
      "metadata": {
        "id": "aT4A4UaAQz_3"
      },
      "source": [
        ""
      ],
      "execution_count": 81,
      "outputs": []
    }
  ]
}