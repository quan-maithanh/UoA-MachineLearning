{
  "nbformat": 4,
  "nbformat_minor": 0,
  "metadata": {
    "colab": {
      "name": "ML-lab2.ipynb",
      "provenance": [],
      "collapsed_sections": []
    },
    "kernelspec": {
      "name": "python3",
      "display_name": "Python 3"
    },
    "language_info": {
      "name": "python"
    }
  },
  "cells": [
    {
      "cell_type": "markdown",
      "metadata": {
        "id": "sQY3N9PrecGF"
      },
      "source": [
        "###**CSCE 5063-001: Assignment 2**\n",
        "\n",
        "\n",
        "\n",
        "\n",
        "            Quan Mai - 010946565"
      ]
    },
    {
      "cell_type": "markdown",
      "metadata": {
        "id": "kCQKlCs2oZ3g"
      },
      "source": [
        "# Implementation of SVM via Gradient Descent"
      ]
    },
    {
      "cell_type": "code",
      "metadata": {
        "id": "1L8M9mNKF1Xz"
      },
      "source": [
        "import numpy as np\n",
        "import matplotlib.pyplot as plt\n",
        "import itertools\n",
        "import time\n",
        "from google.colab import drive"
      ],
      "execution_count": null,
      "outputs": []
    },
    {
      "cell_type": "code",
      "metadata": {
        "colab": {
          "base_uri": "https://localhost:8080/"
        },
        "id": "QTVchTkis7kB",
        "outputId": "23f7bc17-9975-4638-e4ca-26dbb8c45238"
      },
      "source": [
        "# Data Loader\n",
        "drive.mount('/content/drive')\n",
        "with open('/content/drive/My Drive/UoA/ML/lab2/data-2.txt') as f:\n",
        "  data = np.genfromtxt(itertools.islice(f, 13, None), dtype=float) \n",
        "X = np.array(data[:, 0:8])\n",
        "y = np.array(data[:, 8], ndmin=2).T"
      ],
      "execution_count": null,
      "outputs": [
        {
          "output_type": "stream",
          "name": "stdout",
          "text": [
            "Drive already mounted at /content/drive; to attempt to forcibly remount, call drive.mount(\"/content/drive\", force_remount=True).\n"
          ]
        }
      ]
    },
    {
      "cell_type": "code",
      "metadata": {
        "colab": {
          "base_uri": "https://localhost:8080/"
        },
        "id": "IRbOoLV32XAw",
        "outputId": "b4437c45-93cb-4720-ff0c-85ee31a6ff5f"
      },
      "source": [
        "m, n = X.shape[0], X.shape[1]\n",
        "m, n"
      ],
      "execution_count": null,
      "outputs": [
        {
          "output_type": "execute_result",
          "data": {
            "text/plain": [
              "(760, 8)"
            ]
          },
          "metadata": {},
          "execution_count": 35
        }
      ]
    },
    {
      "cell_type": "code",
      "metadata": {
        "id": "dHN9KndSBAvR"
      },
      "source": [
        "X = np.concatenate((np.ones((X.shape[0],1)), X), axis=1)"
      ],
      "execution_count": null,
      "outputs": []
    },
    {
      "cell_type": "code",
      "metadata": {
        "id": "yTi2kD_t0moV"
      },
      "source": [
        "# Loss function\n",
        "def loss(X, y, w, b, C):\n",
        "  J = 0.5 * np.dot(w.T, w) + C * np.sum(np.maximum(0, 1-y*(X@w+b)))\n",
        "  return J.item()"
      ],
      "execution_count": null,
      "outputs": []
    },
    {
      "cell_type": "code",
      "metadata": {
        "id": "74950R8j7qar"
      },
      "source": [
        "# Stopping criteria\n",
        "def convergence_criteria(prev, current ,eps):\n",
        "  percent_cost = np.abs(prev - current) * 100 / prev\n",
        "  return percent_cost < eps"
      ],
      "execution_count": null,
      "outputs": []
    },
    {
      "cell_type": "markdown",
      "metadata": {
        "id": "4c0UbWioyZfp"
      },
      "source": [
        "**1. Batch Gradient Descent (BGD)**"
      ]
    },
    {
      "cell_type": "code",
      "metadata": {
        "id": "ZKOakhC-ypJH"
      },
      "source": [
        "C = 10\n",
        "\n",
        "# Parameters for BGD\n",
        "eta1 = 0.000000001\n",
        "eps1 = 0.03"
      ],
      "execution_count": null,
      "outputs": []
    },
    {
      "cell_type": "code",
      "metadata": {
        "id": "7YCAi9Aa5VLX"
      },
      "source": [
        "def BatchGradientDescent(X, y, C, lr, eps):\n",
        "  m, n = X.shape[0], X.shape[1]\n",
        "  w = np.zeros((n, 1))\n",
        "  grad_w = np.zeros(w.shape)\n",
        "  b = 0\n",
        "  grad_b = 0\n",
        "  costHistory = []\n",
        "  costHistory.append(loss(X, y, w, b, C))\n",
        "  k = 0\n",
        "  start = time.time()\n",
        "  while True:\n",
        "    flag = (y*(X@w+b) < 1).astype(int) # flag = (m,1)\n",
        "    for j in range(n):\n",
        "      grad_w[j] = w[j] + C * np.sum(flag*(-y * X[:, j].reshape(m,1)))\n",
        "    grad_b = C * np.sum(flag*(-y))\n",
        "\n",
        "    # Update w and b\n",
        "    w -= lr * grad_w\n",
        "    b -= lr * grad_b\n",
        "    \n",
        "    costHistory.append(loss(X, y, w, b, C))\n",
        "    k += 1\n",
        "    \n",
        "    if convergence_criteria(costHistory[k-1], costHistory[k], eps):\n",
        "      end = time.time()\n",
        "      break  \n",
        "\n",
        "  return costHistory, w, end-start"
      ],
      "execution_count": null,
      "outputs": []
    },
    {
      "cell_type": "markdown",
      "metadata": {
        "id": "V3M9MV3JTPPb"
      },
      "source": [
        "**2. Stochastic Gradient Descent (SGD)**"
      ]
    },
    {
      "cell_type": "code",
      "metadata": {
        "id": "PJEzKHG7WZ0u"
      },
      "source": [
        "# Parameters\n",
        "eta2 = 0.00000001\n",
        "eps2 = 0.4"
      ],
      "execution_count": null,
      "outputs": []
    },
    {
      "cell_type": "code",
      "metadata": {
        "id": "x0UIx5o0Wx3N"
      },
      "source": [
        "def StochasticGradientDescent(X, y, C, lr, eps, compute_loss=True):\n",
        "  m, n = X.shape[0], X.shape[1]\n",
        "  w = np.zeros((n, 1))\n",
        "  grad_w = np.zeros(w.shape)\n",
        "  b = 0\n",
        "  grad_b = 0\n",
        "  costHistory = []\n",
        "  costHistory.append(loss(X, y, w, b, C))\n",
        "  k = l = 0\n",
        "  start = time.time()\n",
        "  while True:\n",
        "    for i in range(m):\n",
        "      flag = (y[i]*(X[i,:]@w+b) < 1).astype(int)\n",
        "      for j in range(n):\n",
        "        grad_w[j] = w[j] + C * (flag*(-y[i] * X[i, j]))\n",
        "      grad_b = C * (flag*(-y[i]))\n",
        "\n",
        "      # Update w and b\n",
        "      w -= lr * grad_w\n",
        "      b -= lr * grad_b\n",
        "\n",
        "      if compute_loss:\n",
        "        costHistory.append(loss(X, y, w, b, C))\n",
        "        k += 1\n",
        "    if compute_loss:\n",
        "      if convergence_criteria(costHistory[l], costHistory[k-1], eps):\n",
        "        break  \n",
        "      l = k - 1\n",
        "    else:\n",
        "      costHistory.append(loss(X, y, w, b, C))\n",
        "      l += 1\n",
        "      if convergence_criteria(costHistory[l-1], costHistory[l], eps):\n",
        "        break  \n",
        "  end = time.time()\n",
        "  return costHistory, w, end-start"
      ],
      "execution_count": null,
      "outputs": []
    },
    {
      "cell_type": "markdown",
      "metadata": {
        "id": "gu_iocYNk_-E"
      },
      "source": [
        "**3. Minibatch Gradient Descent (MBGD)**"
      ]
    },
    {
      "cell_type": "code",
      "metadata": {
        "id": "zs81wA1ulPz0"
      },
      "source": [
        "# Parameter\n",
        "eta3 = 0.00000001\n",
        "eps3 = 0.5\n",
        "batch_size = 4"
      ],
      "execution_count": null,
      "outputs": []
    },
    {
      "cell_type": "code",
      "metadata": {
        "id": "nkP1Y6vXlTDU"
      },
      "source": [
        "def MiniBatchGradientDescent(X, y, C, lr, eps, s, compute_loss=True):\n",
        "  m, n = X.shape[0], X.shape[1]\n",
        "  w = np.zeros((n, 1))\n",
        "  grad_w = np.zeros(w.shape)\n",
        "  b = 0\n",
        "  grad_b = 0\n",
        "  costHistory = []\n",
        "  costHistory.append(loss(X, y, w, b, C))\n",
        "  k = l = 0\n",
        "  flag = np.zeros((s, 1))\n",
        "  start = time.time()\n",
        "  while True:\n",
        "    for i in range(0, m-s+1, s):\n",
        "      flag = (y[i:i+s]*(X[i:i+s, :]@w+b) < 1).astype(int)\n",
        "      for j in range(n):\n",
        "        grad_w[j] = w[j] + C * np.sum(flag*(-y[i:i+s] * X[i:i+s, j].reshape(s, 1)))\n",
        "      grad_b = C * np.sum(flag*(-y[i:i+s]))\n",
        "\n",
        "      # Update w and b\n",
        "      w -= lr * grad_w\n",
        "      b -= lr * grad_b\n",
        "\n",
        "      if compute_loss:\n",
        "        costHistory.append(loss(X, y, w, b, C))\n",
        "        k += 1\n",
        "    if compute_loss:\n",
        "      if convergence_criteria(costHistory[l], costHistory[k-1], eps):\n",
        "        break  \n",
        "      l = k - 1\n",
        "    else:\n",
        "      costHistory.append(loss(X, y, w, b, C))\n",
        "      l += 1\n",
        "      if convergence_criteria(costHistory[l-1], costHistory[l], eps):\n",
        "        break\n",
        "  end = time.time()\n",
        "  return costHistory, w, end-start"
      ],
      "execution_count": null,
      "outputs": []
    },
    {
      "cell_type": "markdown",
      "metadata": {
        "id": "FfeE2vIse3FB"
      },
      "source": [
        "# **Answers**"
      ]
    },
    {
      "cell_type": "markdown",
      "metadata": {
        "id": "kf5LMeg3uRuu"
      },
      "source": [
        "Question (a): What is $\\nabla_bJ(w, b)$ used for the Batch Gradient Descent Algorithm?"
      ]
    },
    {
      "cell_type": "markdown",
      "metadata": {
        "id": "TAUMOs21u-ni"
      },
      "source": [
        "$\\nabla_bJ(\\boldsymbol{w},b) = \\frac{\\partial J(\\boldsymbol{w},b)}{\\partial b} = \\begin{cases} 0 \\mbox{ if } y^{(i)}(\\boldsymbol{x}^{(i)}\\boldsymbol{w}+b) \\geq 1\\\\ C\\sum^m_{i=1}-y^{(i)} \\mbox{ otherwise}\\end{cases}$"
      ]
    },
    {
      "cell_type": "markdown",
      "metadata": {
        "id": "MN-mRiX-a4DN"
      },
      "source": [
        "Question (b): Plots, time for convergence"
      ]
    },
    {
      "cell_type": "code",
      "metadata": {
        "id": "jSNevrVMa_8f"
      },
      "source": [
        "def plotLoss(cost_BGD, cost_SGD, cost_MBGD):\n",
        "  plt.plot(cost_BGD, color='lightblue')\n",
        "  plt.plot(cost_SGD, color='orange')\n",
        "  plt.plot(cost_MBGD, color='red')\n",
        "  plt.title('Cost vs. Iteration')\n",
        "  plt.xlabel('iteration')\n",
        "  plt.ylabel('cost')\n",
        "  plt.legend([\"BGD\", \"SGD\", \"MBGD\"])\n",
        "  plt.show()"
      ],
      "execution_count": null,
      "outputs": []
    },
    {
      "cell_type": "code",
      "metadata": {
        "id": "N8qkpoHPt2G_"
      },
      "source": [
        "def SVM(compute_loss=True):\n",
        "  cost_BGD, _, t_BGD = BatchGradientDescent(X, y, C, eta1, eps1)\n",
        "  cost_SGD, _, t_SGD = StochasticGradientDescent(X, y, C, eta2, eps2, compute_loss)\n",
        "  cost_MBGD, _, t_MBGD = MiniBatchGradientDescent(X, y, C, eta3, eps3, batch_size, compute_loss)\n",
        "  if compute_loss:\n",
        "    plotLoss(cost_BGD, cost_SGD, cost_MBGD)\n",
        "  \n",
        "  return t_BGD, t_SGD , t_MBGD"
      ],
      "execution_count": null,
      "outputs": []
    },
    {
      "cell_type": "markdown",
      "metadata": {
        "id": "P9raECZybq2D"
      },
      "source": [
        "Plots, and time elapsed when computing loss every sample or minibatch (unit: second)"
      ]
    },
    {
      "cell_type": "code",
      "metadata": {
        "colab": {
          "base_uri": "https://localhost:8080/",
          "height": 312
        },
        "id": "bvMZWBXUqXZZ",
        "outputId": "b70ecd2a-1aa2-46f2-a853-dba2f684fb8c"
      },
      "source": [
        "t_BGD, t_SGD , t_MBGD = SVM()\n",
        "t_BGD, t_SGD , t_MBGD"
      ],
      "execution_count": null,
      "outputs": [
        {
          "output_type": "display_data",
          "data": {
            "image/png": "[encoded data removed]",
            "text/plain": [
              "<Figure size 432x288 with 1 Axes>"
            ]
          },
          "metadata": {
            "needs_background": "light"
          }
        },
        {
          "output_type": "execute_result",
          "data": {
            "text/plain": [
              "(0.0265653133392334, 0.5478208065032959, 0.26490187644958496)"
            ]
          },
          "metadata": {},
          "execution_count": 47
        }
      ]
    },
    {
      "cell_type": "markdown",
      "metadata": {
        "id": "k5NNQnfbbzWp"
      },
      "source": [
        "Time elapsed when not computing loss every minibatch (unit: second)"
      ]
    },
    {
      "cell_type": "code",
      "metadata": {
        "colab": {
          "base_uri": "https://localhost:8080/"
        },
        "id": "hUtyg9vAXFWr",
        "outputId": "6b852d73-a11d-449c-bebb-fb19e5cbb52c"
      },
      "source": [
        "t_BGD, t_SGD , t_MBGD = SVM(False)\n",
        "t_BGD, t_SGD , t_MBGD"
      ],
      "execution_count": null,
      "outputs": [
        {
          "output_type": "execute_result",
          "data": {
            "text/plain": [
              "(0.021015644073486328, 0.3244171142578125, 0.17721104621887207)"
            ]
          },
          "metadata": {},
          "execution_count": 48
        }
      ]
    }
  ]
}